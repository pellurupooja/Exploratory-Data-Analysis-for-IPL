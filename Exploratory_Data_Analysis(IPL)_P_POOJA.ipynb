{
  "nbformat": 4,
  "nbformat_minor": 0,
  "metadata": {
    "colab": {
      "name": "Exploratory Data Analysis(IPL)-P POOJA.ipynb",
      "provenance": [],
      "collapsed_sections": [],
      "authorship_tag": "ABX9TyMoqqzcqO1MmmmEDFB6zTqt",
      "include_colab_link": true
    },
    "kernelspec": {
      "name": "python3",
      "display_name": "Python 3"
    },
    "language_info": {
      "name": "python"
    }
  },
  "cells": [
    {
      "cell_type": "markdown",
      "metadata": {
        "id": "view-in-github",
        "colab_type": "text"
      },
      "source": [
        "<a href=\"https://colab.research.google.com/github/pellurupooja/Exploratory-Data-Analysis-for-IPL/blob/main/Exploratory_Data_Analysis(IPL)_P_POOJA.ipynb\" target=\"_parent\"><img src=\"https://colab.research.google.com/assets/colab-badge.svg\" alt=\"Open In Colab\"/></a>"
      ]
    },
    {
      "cell_type": "markdown",
      "metadata": {
        "id": "hiQ08Ac-OZ_W"
      },
      "source": [
        "**EDA on IPL Dataset**"
      ]
    },
    {
      "cell_type": "code",
      "metadata": {
        "id": "MmPZTz2YOq3A"
      },
      "source": [
        "import pandas  as pd\n",
        "import numpy as np\n",
        "import matplotlib.pyplot as plt\n",
        "import seaborn as sns\n",
        "%matplotlib inline"
      ],
      "execution_count": null,
      "outputs": []
    },
    {
      "cell_type": "markdown",
      "metadata": {
        "id": "u2EjjLUkO08v"
      },
      "source": [
        "**Importing Dataset**"
      ]
    },
    {
      "cell_type": "code",
      "metadata": {
        "colab": {
          "base_uri": "https://localhost:8080/"
        },
        "id": "SmIowVemONLd",
        "outputId": "de830624-9d98-4baa-95d7-e936d1e97d61"
      },
      "source": [
        "data=pd.read_csv(\"/content/matches.csv\")\n",
        "data.head"
      ],
      "execution_count": null,
      "outputs": [
        {
          "output_type": "execute_result",
          "data": {
            "text/plain": [
              "<bound method NDFrame.head of         id    Season  ...         umpire2                  umpire3\n",
              "0        1  IPL-2017  ...        NJ Llong                      NaN\n",
              "1        2  IPL-2017  ...          S Ravi                      NaN\n",
              "2        3  IPL-2017  ...       CK Nandan                      NaN\n",
              "3        4  IPL-2017  ...   C Shamshuddin                      NaN\n",
              "4        5  IPL-2017  ...             NaN                      NaN\n",
              "..     ...       ...  ...             ...                      ...\n",
              "751  11347  IPL-2019  ...        O Nandan                   S Ravi\n",
              "752  11412  IPL-2019  ...     Nitin Menon                Ian Gould\n",
              "753  11413  IPL-2019  ...             NaN                      NaN\n",
              "754  11414  IPL-2019  ...  Bruce Oxenford  Chettithody Shamshuddin\n",
              "755  11415  IPL-2019  ...       Ian Gould              Nigel Llong\n",
              "\n",
              "[756 rows x 18 columns]>"
            ]
          },
          "metadata": {
            "tags": []
          },
          "execution_count": 2
        }
      ]
    },
    {
      "cell_type": "markdown",
      "metadata": {
        "id": "UXEkfjs3PiJC"
      },
      "source": [
        "**How big is the dataset?(ROWS AND COLUMNS)**"
      ]
    },
    {
      "cell_type": "code",
      "metadata": {
        "colab": {
          "base_uri": "https://localhost:8080/"
        },
        "id": "2mh6_0EXPt2r",
        "outputId": "63e78c54-99eb-4cb8-b639-8bb08f607da5"
      },
      "source": [
        "data.shape"
      ],
      "execution_count": null,
      "outputs": [
        {
          "output_type": "execute_result",
          "data": {
            "text/plain": [
              "(756, 18)"
            ]
          },
          "metadata": {
            "tags": []
          },
          "execution_count": 3
        }
      ]
    },
    {
      "cell_type": "code",
      "metadata": {
        "colab": {
          "base_uri": "https://localhost:8080/"
        },
        "id": "qITvRVyPP1iG",
        "outputId": "09f15936-1e0d-4394-efb2-fe1f25c522cb"
      },
      "source": [
        "data.info"
      ],
      "execution_count": null,
      "outputs": [
        {
          "output_type": "execute_result",
          "data": {
            "text/plain": [
              "<bound method DataFrame.info of         id    Season  ...         umpire2                  umpire3\n",
              "0        1  IPL-2017  ...        NJ Llong                      NaN\n",
              "1        2  IPL-2017  ...          S Ravi                      NaN\n",
              "2        3  IPL-2017  ...       CK Nandan                      NaN\n",
              "3        4  IPL-2017  ...   C Shamshuddin                      NaN\n",
              "4        5  IPL-2017  ...             NaN                      NaN\n",
              "..     ...       ...  ...             ...                      ...\n",
              "751  11347  IPL-2019  ...        O Nandan                   S Ravi\n",
              "752  11412  IPL-2019  ...     Nitin Menon                Ian Gould\n",
              "753  11413  IPL-2019  ...             NaN                      NaN\n",
              "754  11414  IPL-2019  ...  Bruce Oxenford  Chettithody Shamshuddin\n",
              "755  11415  IPL-2019  ...       Ian Gould              Nigel Llong\n",
              "\n",
              "[756 rows x 18 columns]>"
            ]
          },
          "metadata": {
            "tags": []
          },
          "execution_count": 4
        }
      ]
    },
    {
      "cell_type": "markdown",
      "metadata": {
        "id": "IRya4zGaP6ET"
      },
      "source": [
        "**Name of all the columns(label)**"
      ]
    },
    {
      "cell_type": "code",
      "metadata": {
        "colab": {
          "base_uri": "https://localhost:8080/"
        },
        "id": "gtJ7IoAZP-f1",
        "outputId": "b2969b29-ccd0-496a-ae19-4e53c045ce45"
      },
      "source": [
        "data.columns"
      ],
      "execution_count": null,
      "outputs": [
        {
          "output_type": "execute_result",
          "data": {
            "text/plain": [
              "Index(['id', 'Season', 'city', 'date', 'team1', 'team2', 'toss_winner',\n",
              "       'toss_decision', 'result', 'dl_applied', 'winner', 'win_by_runs',\n",
              "       'win_by_wickets', 'player_of_match', 'venue', 'umpire1', 'umpire2',\n",
              "       'umpire3'],\n",
              "      dtype='object')"
            ]
          },
          "metadata": {
            "tags": []
          },
          "execution_count": 5
        }
      ]
    },
    {
      "cell_type": "markdown",
      "metadata": {
        "id": "RP8-eR6sQEIL"
      },
      "source": [
        "**Data pre-processing:Finding out NaN values**"
      ]
    },
    {
      "cell_type": "code",
      "metadata": {
        "colab": {
          "base_uri": "https://localhost:8080/"
        },
        "id": "g7vPZ8p8QM9-",
        "outputId": "24d950ac-b329-476e-cbbc-a69665cd711f"
      },
      "source": [
        "data.isna().any()"
      ],
      "execution_count": null,
      "outputs": [
        {
          "output_type": "execute_result",
          "data": {
            "text/plain": [
              "id                 False\n",
              "Season             False\n",
              "city                True\n",
              "date               False\n",
              "team1              False\n",
              "team2              False\n",
              "toss_winner        False\n",
              "toss_decision      False\n",
              "result             False\n",
              "dl_applied         False\n",
              "winner              True\n",
              "win_by_runs        False\n",
              "win_by_wickets     False\n",
              "player_of_match     True\n",
              "venue              False\n",
              "umpire1             True\n",
              "umpire2             True\n",
              "umpire3             True\n",
              "dtype: bool"
            ]
          },
          "metadata": {
            "tags": []
          },
          "execution_count": 6
        }
      ]
    },
    {
      "cell_type": "markdown",
      "metadata": {
        "id": "NDPqhMP2QqqA"
      },
      "source": [
        "**Statistical Description of dataset**"
      ]
    },
    {
      "cell_type": "code",
      "metadata": {
        "colab": {
          "base_uri": "https://localhost:8080/"
        },
        "id": "7qwcoKM4QvoP",
        "outputId": "c5d7af0d-40c6-41a4-b263-941c1de7cbc4"
      },
      "source": [
        "data.describe"
      ],
      "execution_count": null,
      "outputs": [
        {
          "output_type": "execute_result",
          "data": {
            "text/plain": [
              "<bound method NDFrame.describe of         id    Season  ...         umpire2                  umpire3\n",
              "0        1  IPL-2017  ...        NJ Llong                      NaN\n",
              "1        2  IPL-2017  ...          S Ravi                      NaN\n",
              "2        3  IPL-2017  ...       CK Nandan                      NaN\n",
              "3        4  IPL-2017  ...   C Shamshuddin                      NaN\n",
              "4        5  IPL-2017  ...             NaN                      NaN\n",
              "..     ...       ...  ...             ...                      ...\n",
              "751  11347  IPL-2019  ...        O Nandan                   S Ravi\n",
              "752  11412  IPL-2019  ...     Nitin Menon                Ian Gould\n",
              "753  11413  IPL-2019  ...             NaN                      NaN\n",
              "754  11414  IPL-2019  ...  Bruce Oxenford  Chettithody Shamshuddin\n",
              "755  11415  IPL-2019  ...       Ian Gould              Nigel Llong\n",
              "\n",
              "[756 rows x 18 columns]>"
            ]
          },
          "metadata": {
            "tags": []
          },
          "execution_count": 7
        }
      ]
    },
    {
      "cell_type": "markdown",
      "metadata": {
        "id": "F7a9KvIbQ475"
      },
      "source": [
        "**How** **many matches(in total)were played according to the dataset?**"
      ]
    },
    {
      "cell_type": "code",
      "metadata": {
        "colab": {
          "base_uri": "https://localhost:8080/"
        },
        "id": "YR54MvVTRIDn",
        "outputId": "b5248fb8-2991-41bf-bd13-7d7a363f47c2"
      },
      "source": [
        "data['id'].count()"
      ],
      "execution_count": null,
      "outputs": [
        {
          "output_type": "execute_result",
          "data": {
            "text/plain": [
              "756"
            ]
          },
          "metadata": {
            "tags": []
          },
          "execution_count": 9
        }
      ]
    },
    {
      "cell_type": "markdown",
      "metadata": {
        "id": "PllS_QEeRTCW"
      },
      "source": [
        "**How many IPL seasons are there to anaylse?**"
      ]
    },
    {
      "cell_type": "code",
      "metadata": {
        "colab": {
          "base_uri": "https://localhost:8080/"
        },
        "id": "AyhCq9spRZYo",
        "outputId": "b255b402-6068-4090-a780-7a08cb06e585"
      },
      "source": [
        "data['Season'].unique()"
      ],
      "execution_count": null,
      "outputs": [
        {
          "output_type": "execute_result",
          "data": {
            "text/plain": [
              "array(['IPL-2017', 'IPL-2008', 'IPL-2009', 'IPL-2010', 'IPL-2011',\n",
              "       'IPL-2012', 'IPL-2013', 'IPL-2014', 'IPL-2015', 'IPL-2016',\n",
              "       'IPL-2018', 'IPL-2019'], dtype=object)"
            ]
          },
          "metadata": {
            "tags": []
          },
          "execution_count": 10
        }
      ]
    },
    {
      "cell_type": "markdown",
      "metadata": {
        "id": "_UxC0kcLRncM"
      },
      "source": [
        "**which** **IPL team won by scoring the maximum runs?**"
      ]
    },
    {
      "cell_type": "code",
      "metadata": {
        "id": "o_KY7t21Rw2b",
        "colab": {
          "base_uri": "https://localhost:8080/"
        },
        "outputId": "fb40fc18-94c0-410c-c5af-10cc078c2a44"
      },
      "source": [
        "data.iloc[data['win_by_runs'].idxmax()]"
      ],
      "execution_count": null,
      "outputs": [
        {
          "output_type": "execute_result",
          "data": {
            "text/plain": [
              "id                               44\n",
              "Season                     IPL-2017\n",
              "city                          Delhi\n",
              "date                     06-05-2017\n",
              "team1                Mumbai Indians\n",
              "team2              Delhi Daredevils\n",
              "toss_winner        Delhi Daredevils\n",
              "toss_decision                 field\n",
              "result                       normal\n",
              "dl_applied                        0\n",
              "winner               Mumbai Indians\n",
              "win_by_runs                     146\n",
              "win_by_wickets                    0\n",
              "player_of_match         LMP Simmons\n",
              "venue              Feroz Shah Kotla\n",
              "umpire1                 Nitin Menon\n",
              "umpire2                   CK Nandan\n",
              "umpire3                         NaN\n",
              "Name: 43, dtype: object"
            ]
          },
          "metadata": {
            "tags": []
          },
          "execution_count": 12
        }
      ]
    },
    {
      "cell_type": "markdown",
      "metadata": {
        "id": "zRQcP0W_gFgI"
      },
      "source": [
        "**which IPL team won by consuming maximum wickets?**\n",
        "\n",
        "---\n",
        "\n"
      ]
    },
    {
      "cell_type": "code",
      "metadata": {
        "colab": {
          "base_uri": "https://localhost:8080/"
        },
        "id": "0ZkRb4pJgvh-",
        "outputId": "2b866f32-9911-47c5-cabf-e537ea9aff59"
      },
      "source": [
        "data.iloc[data['win_by_wickets'].idxmax()]"
      ],
      "execution_count": null,
      "outputs": [
        {
          "output_type": "execute_result",
          "data": {
            "text/plain": [
              "id                                                      3\n",
              "Season                                           IPL-2017\n",
              "city                                               Rajkot\n",
              "date                                           07-04-2017\n",
              "team1                                       Gujarat Lions\n",
              "team2                               Kolkata Knight Riders\n",
              "toss_winner                         Kolkata Knight Riders\n",
              "toss_decision                                       field\n",
              "result                                             normal\n",
              "dl_applied                                              0\n",
              "winner                              Kolkata Knight Riders\n",
              "win_by_runs                                             0\n",
              "win_by_wickets                                         10\n",
              "player_of_match                                   CA Lynn\n",
              "venue              Saurashtra Cricket Association Stadium\n",
              "umpire1                                       Nitin Menon\n",
              "umpire2                                         CK Nandan\n",
              "umpire3                                               NaN\n",
              "Name: 2, dtype: object"
            ]
          },
          "metadata": {
            "tags": []
          },
          "execution_count": 13
        }
      ]
    },
    {
      "cell_type": "markdown",
      "metadata": {
        "id": "ltRZtJN7jXOV"
      },
      "source": [
        "**which IPL team won by taking minimum wickets?**"
      ]
    },
    {
      "cell_type": "code",
      "metadata": {
        "colab": {
          "base_uri": "https://localhost:8080/"
        },
        "id": "EO_p5yuTjfIv",
        "outputId": "eeb1ca93-79a0-4dfa-a859-bab56d4db151"
      },
      "source": [
        "data.iloc[data['win_by_wickets'].idxmin()]"
      ],
      "execution_count": null,
      "outputs": [
        {
          "output_type": "execute_result",
          "data": {
            "text/plain": [
              "id                                                         1\n",
              "Season                                              IPL-2017\n",
              "city                                               Hyderabad\n",
              "date                                              05-04-2017\n",
              "team1                                    Sunrisers Hyderabad\n",
              "team2                            Royal Challengers Bangalore\n",
              "toss_winner                      Royal Challengers Bangalore\n",
              "toss_decision                                          field\n",
              "result                                                normal\n",
              "dl_applied                                                 0\n",
              "winner                                   Sunrisers Hyderabad\n",
              "win_by_runs                                               35\n",
              "win_by_wickets                                             0\n",
              "player_of_match                                 Yuvraj Singh\n",
              "venue              Rajiv Gandhi International Stadium, Uppal\n",
              "umpire1                                          AY Dandekar\n",
              "umpire2                                             NJ Llong\n",
              "umpire3                                                  NaN\n",
              "Name: 0, dtype: object"
            ]
          },
          "metadata": {
            "tags": []
          },
          "execution_count": 17
        }
      ]
    },
    {
      "cell_type": "markdown",
      "metadata": {
        "id": "XzRwUdBbjpEW"
      },
      "source": [
        "**which IPL team won by taking minimum wickets?**"
      ]
    },
    {
      "cell_type": "code",
      "metadata": {
        "colab": {
          "base_uri": "https://localhost:8080/"
        },
        "id": "JGoA8xRjjvyC",
        "outputId": "cff80129-a4d9-4ba2-846a-f7ecd0658d4e"
      },
      "source": [
        "data.iloc[data['win_by_wickets'].idxmin()]"
      ],
      "execution_count": null,
      "outputs": [
        {
          "output_type": "execute_result",
          "data": {
            "text/plain": [
              "id                                                         1\n",
              "Season                                              IPL-2017\n",
              "city                                               Hyderabad\n",
              "date                                              05-04-2017\n",
              "team1                                    Sunrisers Hyderabad\n",
              "team2                            Royal Challengers Bangalore\n",
              "toss_winner                      Royal Challengers Bangalore\n",
              "toss_decision                                          field\n",
              "result                                                normal\n",
              "dl_applied                                                 0\n",
              "winner                                   Sunrisers Hyderabad\n",
              "win_by_runs                                               35\n",
              "win_by_wickets                                             0\n",
              "player_of_match                                 Yuvraj Singh\n",
              "venue              Rajiv Gandhi International Stadium, Uppal\n",
              "umpire1                                          AY Dandekar\n",
              "umpire2                                             NJ Llong\n",
              "umpire3                                                  NaN\n",
              "Name: 0, dtype: object"
            ]
          },
          "metadata": {
            "tags": []
          },
          "execution_count": 16
        }
      ]
    },
    {
      "cell_type": "markdown",
      "metadata": {
        "id": "PeTbvirGj5ZC"
      },
      "source": [
        "**which season consisted of the highest matches ever played?**"
      ]
    },
    {
      "cell_type": "code",
      "metadata": {
        "colab": {
          "base_uri": "https://localhost:8080/",
          "height": 279
        },
        "id": "ic674dckkJrQ",
        "outputId": "e177c088-739f-4005-9c24-2595efbb1f5d"
      },
      "source": [
        "fig_dims = (10,4)\n",
        "fig, ax = plt.subplots(figsize=fig_dims)\n",
        "sns.countplot(x='Season', ax=ax,data=data)\n",
        "plt.show()"
      ],
      "execution_count": null,
      "outputs": [
        {
          "output_type": "display_data",
          "data": {
            "image/png": "[encoded data removed]",
            "text/plain": [
              "<Figure size 720x288 with 1 Axes>"
            ]
          },
          "metadata": {
            "tags": [],
            "needs_background": "light"
          }
        }
      ]
    },
    {
      "cell_type": "markdown",
      "metadata": {
        "id": "85f0VhCZmuMJ"
      },
      "source": [
        "**which is the most successful IPL team with all the data at hand?**"
      ]
    },
    {
      "cell_type": "code",
      "metadata": {
        "colab": {
          "base_uri": "https://localhost:8080/",
          "height": 296
        },
        "id": "psOuTGQYnJRf",
        "outputId": "6744b1ea-52f9-4f2c-bfea-51c9e039ffba"
      },
      "source": [
        "data1=data.winner.value_counts()\n",
        "sns.barplot(y=data1.index,x=data1)"
      ],
      "execution_count": null,
      "outputs": [
        {
          "output_type": "execute_result",
          "data": {
            "text/plain": [
              "<matplotlib.axes._subplots.AxesSubplot at 0x7f7d8bebb210>"
            ]
          },
          "metadata": {
            "tags": []
          },
          "execution_count": 28
        },
        {
          "output_type": "display_data",
          "data": {
            "image/png": "[encoded data removed]",
            "text/plain": [
              "<Figure size 432x288 with 1 Axes>"
            ]
          },
          "metadata": {
            "tags": [],
            "needs_background": "light"
          }
        }
      ]
    },
    {
      "cell_type": "markdown",
      "metadata": {
        "id": "_kFOLv83q9oi"
      },
      "source": [
        "**which is the most successful IPL team with all the data at hand?**"
      ]
    },
    {
      "cell_type": "code",
      "metadata": {
        "colab": {
          "base_uri": "https://localhost:8080/",
          "height": 296
        },
        "id": "f-VLojPTrFCU",
        "outputId": "adc481b9-e5e8-46ec-b72c-42f8ba2f3f7e"
      },
      "source": [
        "data1=data.winner.value_counts(ascending=True)\n",
        "sns.barplot(y=data1.index,x=data1)"
      ],
      "execution_count": null,
      "outputs": [
        {
          "output_type": "execute_result",
          "data": {
            "text/plain": [
              "<matplotlib.axes._subplots.AxesSubplot at 0x7f7d8bd2d190>"
            ]
          },
          "metadata": {
            "tags": []
          },
          "execution_count": 30
        },
        {
          "output_type": "display_data",
          "data": {
            "image/png": "[encoded data removed]",
            "text/plain": [
              "<Figure size 432x288 with 1 Axes>"
            ]
          },
          "metadata": {
            "tags": [],
            "needs_background": "light"
          }
        }
      ]
    },
    {
      "cell_type": "markdown",
      "metadata": {
        "id": "KdKk765jpXuK"
      },
      "source": [
        "**what is the propability of winning a match if the toss was won?**"
      ]
    },
    {
      "cell_type": "code",
      "metadata": {
        "colab": {
          "base_uri": "https://localhost:8080/"
        },
        "id": "eKqK20OTpzja",
        "outputId": "c36458bd-3266-42f6-f62c-e317b028b734"
      },
      "source": [
        "probability_of_win=data['toss_winner']==data['winner']\n",
        "probability_of_win.groupby(probability_of_win).size()"
      ],
      "execution_count": null,
      "outputs": [
        {
          "output_type": "execute_result",
          "data": {
            "text/plain": [
              "False    363\n",
              "True     393\n",
              "dtype: int64"
            ]
          },
          "metadata": {
            "tags": []
          },
          "execution_count": 32
        }
      ]
    },
    {
      "cell_type": "code",
      "metadata": {
        "colab": {
          "base_uri": "https://localhost:8080/",
          "height": 335
        },
        "id": "TBZIpp2msfL0",
        "outputId": "edfebb14-104c-408d-d11c-ae31f7efb38b"
      },
      "source": [
        "sns.countplot(probability_of_win)"
      ],
      "execution_count": null,
      "outputs": [
        {
          "output_type": "stream",
          "text": [
            "/usr/local/lib/python3.7/dist-packages/seaborn/_decorators.py:43: FutureWarning: Pass the following variable as a keyword arg: x. From version 0.12, the only valid positional argument will be `data`, and passing other arguments without an explicit keyword will result in an error or misinterpretation.\n",
            "  FutureWarning\n"
          ],
          "name": "stderr"
        },
        {
          "output_type": "execute_result",
          "data": {
            "text/plain": [
              "<matplotlib.axes._subplots.AxesSubplot at 0x7f7d8bbef110>"
            ]
          },
          "metadata": {
            "tags": []
          },
          "execution_count": 33
        },
        {
          "output_type": "display_data",
          "data": {
            "image/png": "[encoded data removed]",
            "text/plain": [
              "<Figure size 432x288 with 1 Axes>"
            ]
          },
          "metadata": {
            "tags": [],
            "needs_background": "light"
          }
        }
      ]
    },
    {
      "cell_type": "markdown",
      "metadata": {
        "id": "Q8vEEr1-st5f"
      },
      "source": [
        "**Setting a higher row width**"
      ]
    },
    {
      "cell_type": "code",
      "metadata": {
        "colab": {
          "base_uri": "https://localhost:8080/"
        },
        "id": "xfNuZk3Bs4ug",
        "outputId": "cf56afeb-13d3-47e1-f2d6-956f907bf885"
      },
      "source": [
        "pd.set_option('max_rows',99999)\n",
        "pd.set_option('max_colwidth',400)\n",
        "pd.describe_option('max_colwidth')"
      ],
      "execution_count": null,
      "outputs": [
        {
          "output_type": "stream",
          "text": [
            "display.max_colwidth : int or None\n",
            "    The maximum width in characters of a column in the repr of\n",
            "    a pandas data structure. When the column overflows, a \"...\"\n",
            "    placeholder is embedded in the output. A 'None' value means unlimited.\n",
            "    [default: 50] [currently: 400]\n"
          ],
          "name": "stdout"
        }
      ]
    },
    {
      "cell_type": "markdown",
      "metadata": {
        "id": "fuQgcygutp6o"
      },
      "source": [
        "**Highest wins by teams per season**"
      ]
    },
    {
      "cell_type": "code",
      "metadata": {
        "colab": {
          "base_uri": "https://localhost:8080/"
        },
        "id": "PoCknFbWtx44",
        "outputId": "edd080ee-bcbc-4ad4-fcde-3563dfc4f2c6"
      },
      "source": [
        "data.groupby('Season')['winner'].value_counts()"
      ],
      "execution_count": null,
      "outputs": [
        {
          "output_type": "execute_result",
          "data": {
            "text/plain": [
              "Season    winner                     \n",
              "IPL-2008  Rajasthan Royals               13\n",
              "          Kings XI Punjab                10\n",
              "          Chennai Super Kings             9\n",
              "          Delhi Daredevils                7\n",
              "          Mumbai Indians                  7\n",
              "          Kolkata Knight Riders           6\n",
              "          Royal Challengers Bangalore     4\n",
              "          Deccan Chargers                 2\n",
              "IPL-2009  Delhi Daredevils               10\n",
              "          Deccan Chargers                 9\n",
              "          Royal Challengers Bangalore     9\n",
              "          Chennai Super Kings             8\n",
              "          Kings XI Punjab                 7\n",
              "          Rajasthan Royals                6\n",
              "          Mumbai Indians                  5\n",
              "          Kolkata Knight Riders           3\n",
              "IPL-2010  Mumbai Indians                 11\n",
              "          Chennai Super Kings             9\n",
              "          Deccan Chargers                 8\n",
              "          Royal Challengers Bangalore     8\n",
              "          Delhi Daredevils                7\n",
              "          Kolkata Knight Riders           7\n",
              "          Rajasthan Royals                6\n",
              "          Kings XI Punjab                 4\n",
              "IPL-2011  Chennai Super Kings            11\n",
              "          Mumbai Indians                 10\n",
              "          Royal Challengers Bangalore    10\n",
              "          Kolkata Knight Riders           8\n",
              "          Kings XI Punjab                 7\n",
              "          Deccan Chargers                 6\n",
              "          Kochi Tuskers Kerala            6\n",
              "          Rajasthan Royals                6\n",
              "          Delhi Daredevils                4\n",
              "          Pune Warriors                   4\n",
              "IPL-2012  Kolkata Knight Riders          12\n",
              "          Delhi Daredevils               11\n",
              "          Chennai Super Kings            10\n",
              "          Mumbai Indians                 10\n",
              "          Kings XI Punjab                 8\n",
              "          Royal Challengers Bangalore     8\n",
              "          Rajasthan Royals                7\n",
              "          Deccan Chargers                 4\n",
              "          Pune Warriors                   4\n",
              "IPL-2013  Mumbai Indians                 13\n",
              "          Chennai Super Kings            12\n",
              "          Rajasthan Royals               11\n",
              "          Sunrisers Hyderabad            10\n",
              "          Royal Challengers Bangalore     9\n",
              "          Kings XI Punjab                 8\n",
              "          Kolkata Knight Riders           6\n",
              "          Pune Warriors                   4\n",
              "          Delhi Daredevils                3\n",
              "IPL-2014  Kings XI Punjab                12\n",
              "          Kolkata Knight Riders          11\n",
              "          Chennai Super Kings            10\n",
              "          Mumbai Indians                  7\n",
              "          Rajasthan Royals                7\n",
              "          Sunrisers Hyderabad             6\n",
              "          Royal Challengers Bangalore     5\n",
              "          Delhi Daredevils                2\n",
              "IPL-2015  Chennai Super Kings            10\n",
              "          Mumbai Indians                 10\n",
              "          Royal Challengers Bangalore     8\n",
              "          Kolkata Knight Riders           7\n",
              "          Rajasthan Royals                7\n",
              "          Sunrisers Hyderabad             7\n",
              "          Delhi Daredevils                5\n",
              "          Kings XI Punjab                 3\n",
              "IPL-2016  Sunrisers Hyderabad            11\n",
              "          Gujarat Lions                   9\n",
              "          Royal Challengers Bangalore     9\n",
              "          Kolkata Knight Riders           8\n",
              "          Delhi Daredevils                7\n",
              "          Mumbai Indians                  7\n",
              "          Rising Pune Supergiants         5\n",
              "          Kings XI Punjab                 4\n",
              "IPL-2017  Mumbai Indians                 12\n",
              "          Rising Pune Supergiant         10\n",
              "          Kolkata Knight Riders           9\n",
              "          Sunrisers Hyderabad             8\n",
              "          Kings XI Punjab                 7\n",
              "          Delhi Daredevils                6\n",
              "          Gujarat Lions                   4\n",
              "          Royal Challengers Bangalore     3\n",
              "IPL-2018  Chennai Super Kings            11\n",
              "          Sunrisers Hyderabad            10\n",
              "          Kolkata Knight Riders           9\n",
              "          Rajasthan Royals                7\n",
              "          Kings XI Punjab                 6\n",
              "          Mumbai Indians                  6\n",
              "          Royal Challengers Bangalore     6\n",
              "          Delhi Daredevils                5\n",
              "IPL-2019  Mumbai Indians                 11\n",
              "          Chennai Super Kings            10\n",
              "          Delhi Capitals                 10\n",
              "          Kings XI Punjab                 6\n",
              "          Kolkata Knight Riders           6\n",
              "          Sunrisers Hyderabad             6\n",
              "          Rajasthan Royals                5\n",
              "          Royal Challengers Bangalore     5\n",
              "Name: winner, dtype: int64"
            ]
          },
          "metadata": {
            "tags": []
          },
          "execution_count": 38
        }
      ]
    },
    {
      "cell_type": "code",
      "metadata": {
        "colab": {
          "base_uri": "https://localhost:8080/"
        },
        "id": "t-kUJaK-t_as",
        "outputId": "7e99b294-ea54-4ed4-a585-4738aeccc975"
      },
      "source": [
        "data['toss_decision'].value_counts()"
      ],
      "execution_count": null,
      "outputs": [
        {
          "output_type": "execute_result",
          "data": {
            "text/plain": [
              "field    463\n",
              "bat      293\n",
              "Name: toss_decision, dtype: int64"
            ]
          },
          "metadata": {
            "tags": []
          },
          "execution_count": 39
        }
      ]
    },
    {
      "cell_type": "markdown",
      "metadata": {
        "id": "QS5MaOZkuNTC"
      },
      "source": [
        "**Man of the match-Highest to lowest(in won matches)**"
      ]
    },
    {
      "cell_type": "code",
      "metadata": {
        "colab": {
          "base_uri": "https://localhost:8080/"
        },
        "id": "wC0hFFL6uW4A",
        "outputId": "0258f811-3c2b-4e03-ff8a-3ba8f16bc9d7"
      },
      "source": [
        "data['player_of_match'].value_counts()"
      ],
      "execution_count": null,
      "outputs": [
        {
          "output_type": "execute_result",
          "data": {
            "text/plain": [
              "CH Gayle             21\n",
              "AB de Villiers       20\n",
              "MS Dhoni             17\n",
              "DA Warner            17\n",
              "RG Sharma            17\n",
              "YK Pathan            16\n",
              "SR Watson            15\n",
              "SK Raina             14\n",
              "G Gambhir            13\n",
              "MEK Hussey           12\n",
              "V Kohli              12\n",
              "AM Rahane            12\n",
              "V Sehwag             11\n",
              "AD Russell           11\n",
              "DR Smith             11\n",
              "A Mishra             11\n",
              "KA Pollard           10\n",
              "JH Kallis            10\n",
              "SP Narine             9\n",
              "AT Rayudu             9\n",
              "SE Marsh              9\n",
              "SR Tendulkar          8\n",
              "RA Jadeja             8\n",
              "UT Yadav              8\n",
              "Harbhajan Singh       8\n",
              "RV Uthappa            7\n",
              "AC Gilchrist          7\n",
              "Rashid Khan           7\n",
              "SL Malinga            6\n",
              "A Nehra               6\n",
              "HH Pandya             6\n",
              "S Dhawan              6\n",
              "RR Pant               6\n",
              "M Vijay               6\n",
              "BJ Hodge              6\n",
              "Yuvraj Singh          5\n",
              "GJ Maxwell            5\n",
              "DW Steyn              5\n",
              "BB McCullum           5\n",
              "JD Unadkat            5\n",
              "SPD Smith             5\n",
              "AJ Finch              5\n",
              "KC Sangakkara         5\n",
              "SV Samson             5\n",
              "JP Faulkner           5\n",
              "Sandeep Sharma        5\n",
              "JC Buttler            5\n",
              "PA Patel              5\n",
              "SC Ganguly            5\n",
              "DPMD Jayawardene      5\n",
              "B Kumar               5\n",
              "JJ Bumrah             5\n",
              "MK Pandey             4\n",
              "KD Karthik            4\n",
              "F du Plessis          4\n",
              "NM Coulter-Nile       4\n",
              "KL Rahul              4\n",
              "ML Hayden             4\n",
              "SK Warne              4\n",
              "JP Duminy             4\n",
              "AR Patel              4\n",
              "KH Pandya             4\n",
              "N Rana                4\n",
              "SS Iyer               4\n",
              "CA Lynn               4\n",
              "DJ Bravo              3\n",
              "LMP Simmons           3\n",
              "A Symonds             3\n",
              "LRPL Taylor           3\n",
              "DA Miller             3\n",
              "L Balaji              3\n",
              "PP Chawla             3\n",
              "Mandeep Singh         3\n",
              "KP Pietersen          3\n",
              "MK Tiwary             3\n",
              "R Vinay Kumar         3\n",
              "A Kumble              3\n",
              "KS Williamson         3\n",
              "BA Stokes             3\n",
              "CJ Anderson           3\n",
              "WP Saha               3\n",
              "M Vohra               3\n",
              "KK Nair               3\n",
              "MM Patel              2\n",
              "Sohail Tanvir         2\n",
              "P Negi                2\n",
              "PV Tambe              2\n",
              "Harmeet Singh         2\n",
              "MA Agarwal            2\n",
              "J Bairstow            2\n",
              "MP Stoinis            2\n",
              "IK Pathan             2\n",
              "AJ Tye                2\n",
              "R Sharma              2\n",
              "GH Vihari             2\n",
              "MM Sharma             2\n",
              "B Lee                 2\n",
              "M Morkel              2\n",
              "KM Jadhav             2\n",
              "DJ Hussey             2\n",
              "PC Valthaty           2\n",
              "Shakib Al Hasan       2\n",
              "AS Yadav              2\n",
              "HM Amla               2\n",
              "HV Patel              2\n",
              "Azhar Mahmood         2\n",
              "MV Boucher            2\n",
              "R Dravid              2\n",
              "GC Smith              2\n",
              "BW Hilfenhaus         2\n",
              "MJ McClenaghan        2\n",
              "AS Rajpoot            2\n",
              "SM Pollock            2\n",
              "MC Henriques          2\n",
              "M Ntini               2\n",
              "M Muralitharan        2\n",
              "VR Aaron              2\n",
              "I Sharma              2\n",
              "P Kumar               2\n",
              "ST Jayasuriya         2\n",
              "AB Dinda              2\n",
              "SK Trivedi            2\n",
              "DE Bollinger          2\n",
              "MG Johnson            2\n",
              "Iqbal Abdulla         2\n",
              "R Ashwin              2\n",
              "CH Morris             2\n",
              "JA Morkel             2\n",
              "S Gopal               2\n",
              "BA Bhatt              1\n",
              "J Archer              1\n",
              "B Stanlake            1\n",
              "H Gurney              1\n",
              "JJ Roy                1\n",
              "S Badrinath           1\n",
              "SM Katich             1\n",
              "HH Gibbs              1\n",
              "S Anirudha            1\n",
              "JDP Oram              1\n",
              "TL Suman              1\n",
              "SA Yadav              1\n",
              "AD Mascarenhas        1\n",
              "PD Collingwood        1\n",
              "LH Ferguson           1\n",
              "SB Jakati             1\n",
              "Ishan Kishan          1\n",
              "K Paul                1\n",
              "GD McGrath            1\n",
              "KMDN Kulasekara       1\n",
              "S Sreesanth           1\n",
              "S Hetmyer             1\n",
              "S Curran              1\n",
              "TG Southee            1\n",
              "LR Shukla             1\n",
              "AC Voges              1\n",
              "CL White              1\n",
              "SB Wagh               1\n",
              "RE Levi               1\n",
              "M Ur Rahman           1\n",
              "L Ngidi               1\n",
              "BCJ Cutting           1\n",
              "Mohammed Shami        1\n",
              "AD Mathews            1\n",
              "MA Starc              1\n",
              "Kuldeep Yadav         1\n",
              "DL Vettori            1\n",
              "Shoaib Akhtar         1\n",
              "MF Maharoof           1\n",
              "Mustafizur Rahman     1\n",
              "WPUJC Vaas            1\n",
              "P Parameswaran        1\n",
              "DJG Sammy             1\n",
              "Mohammed Siraj        1\n",
              "KV Sharma             1\n",
              "AP Tare               1\n",
              "GJ Bailey             1\n",
              "AA Jhunjhunwala       1\n",
              "CRD Fernando          1\n",
              "M Kartik              1\n",
              "Imran Tahir           1\n",
              "RS Bopara             1\n",
              "LJ Wright             1\n",
              "KK Cooper             1\n",
              "EJG Morgan            1\n",
              "SW Billings           1\n",
              "SA Asnodkar           1\n",
              "RJ Harris             1\n",
              "J Theron              1\n",
              "MJ Lumb               1\n",
              "S Sohal               1\n",
              "RP Singh              1\n",
              "R McLaren             1\n",
              "CR Brathwaite         1\n",
              "DP Nannes             1\n",
              "TM Dilshan            1\n",
              "J Botha               1\n",
              "DL Chahar             1\n",
              "Z Khan                1\n",
              "A Zampa               1\n",
              "PP Ojha               1\n",
              "TA Boult              1\n",
              "P Shaw                1\n",
              "A Chandila            1\n",
              "MS Gony               1\n",
              "DJ Hooda              1\n",
              "K Ahmed               1\n",
              "JEC Franklin          1\n",
              "RA Tripathi           1\n",
              "R Bhatia              1\n",
              "S Gill                1\n",
              "Umar Gul              1\n",
              "MD Mishra             1\n",
              "JD Ryder              1\n",
              "A Singh               1\n",
              "MS Bisla              1\n",
              "SP Goswami            1\n",
              "MR Marsh              1\n",
              "YS Chahal             1\n",
              "Washington Sundar     1\n",
              "S Nadeem              1\n",
              "S Aravind             1\n",
              "A Joseph              1\n",
              "Q de Kock             1\n",
              "K Rabada              1\n",
              "MN Samuels            1\n",
              "NV Ojha               1\n",
              "Name: player_of_match, dtype: int64"
            ]
          },
          "metadata": {
            "tags": []
          },
          "execution_count": 40
        }
      ]
    },
    {
      "cell_type": "markdown",
      "metadata": {
        "id": "9WOLS_3OuuVO"
      },
      "source": [
        "**In which city were the numbers of matches played?**"
      ]
    },
    {
      "cell_type": "code",
      "metadata": {
        "colab": {
          "base_uri": "https://localhost:8080/"
        },
        "id": "l4d8xEf2u3Xy",
        "outputId": "d09237ba-33c2-4310-8ae0-902b2c168b72"
      },
      "source": [
        "data['city'].value_counts()"
      ],
      "execution_count": null,
      "outputs": [
        {
          "output_type": "execute_result",
          "data": {
            "text/plain": [
              "Mumbai            101\n",
              "Kolkata            77\n",
              "Delhi              74\n",
              "Bangalore          66\n",
              "Hyderabad          64\n",
              "Chennai            57\n",
              "Jaipur             47\n",
              "Chandigarh         46\n",
              "Pune               38\n",
              "Durban             15\n",
              "Bengaluru          14\n",
              "Visakhapatnam      13\n",
              "Centurion          12\n",
              "Ahmedabad          12\n",
              "Rajkot             10\n",
              "Mohali             10\n",
              "Indore              9\n",
              "Dharamsala          9\n",
              "Johannesburg        8\n",
              "Port Elizabeth      7\n",
              "Cape Town           7\n",
              "Cuttack             7\n",
              "Abu Dhabi           7\n",
              "Ranchi              7\n",
              "Raipur              6\n",
              "Sharjah             6\n",
              "Kochi               5\n",
              "Kanpur              4\n",
              "Kimberley           3\n",
              "East London         3\n",
              "Nagpur              3\n",
              "Bloemfontein        2\n",
              "Name: city, dtype: int64"
            ]
          },
          "metadata": {
            "tags": []
          },
          "execution_count": 42
        }
      ]
    }
  ]
}